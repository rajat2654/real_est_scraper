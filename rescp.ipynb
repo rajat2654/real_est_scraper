{
 "cells": [
  {
   "cell_type": "code",
   "execution_count": 14,
   "metadata": {},
   "outputs": [],
   "source": [
    "import requests\n",
    "from bs4 import BeautifulSoup\n",
    "\n",
    "r = requests.get(\"http://www.pyclass.com/real-estate/rock-springs-wy/LCWYROCKSPRINGS/\", headers={'User-agent': 'Mozilla/5.0 (X11; Ubuntu; Linux x86_64; rv:61.0) Gecko/20100101 Firefox/61.0'})\n",
    "r1 = requests.get(\"http://www.pyclass.com/real-estate/rock-springs-wy/LCWYROCKSPRINGS/t=0&s=10.html\", headers={'User-agent': 'Mozilla/5.0 (X11; Ubuntu; Linux x86_64; rv:61.0) Gecko/20100101 Firefox/61.0'})\n",
    "r2 = requests.get(\"http://www.pyclass.com/real-estate/rock-springs-wy/LCWYROCKSPRINGS/t=0&s=20.html\", headers={'User-agent': 'Mozilla/5.0 (X11; Ubuntu; Linux x86_64; rv:61.0) Gecko/20100101 Firefox/61.0'})\n",
    "\n",
    "soup=BeautifulSoup(r.text + r1.text + r2.text,\"html.parser\")\n",
    "soup\n",
    "\n",
    "fd=soup.select(\".propertyRow\")\n",
    "x=[]\n",
    "\n",
    "for item in fd:\n",
    "    det={}\n",
    "    det[\"Price\"]=item.select(\".propPrice\")[0].getText().replace(\"\\n\",\"\").replace(\" \",\"\")\n",
    "    det[\"Address\"]=item.select(\".propAddressCollapse\")[0].getText() + item.select(\".propAddressCollapse\")[1].getText()\n",
    "    try:\n",
    "        det[\"Beds\"]=item.select(\".infoBed\")[0].b.text\n",
    "    except:\n",
    "        det[\"Beds\"]=\"NA\"\n",
    "    try:\n",
    "        det[\"Full Bath\"]=item.select(\".infoValueFullBath\")[0].b.text\n",
    "    except:\n",
    "        det[\"Full Bath\"]=\"NA\"\n",
    "    try:\n",
    "        det[\"Size\"]=item.select(\".infoSqFt\")[0].b.text\n",
    "    except:\n",
    "        det[\"Size\"]=\"NA\"\n",
    "    try:\n",
    "        det[\"Half Bath\"]=item.select(\".infoValueHalfBath\")[0].b.text\n",
    "    except:\n",
    "        det[\"Half Bath\"]=\"NA\"\n",
    "    \n",
    "    \n",
    "    #print(item.select(\".columnGroup\"))\n",
    "    det[\"Age\"]=\"NA\"\n",
    "    for grp,name in zip(item.select(\".featureGroup\"),item.select(\".featureName\")):\n",
    "        if \"Age\" in grp.getText():\n",
    "            det[\"Age\"]=name.getText()\n",
    "        \n",
    "    x.append(det)\n",
    "\n",
    "import pandas\n",
    "df=pandas.DataFrame(x)\n",
    "\n",
    "df.to_csv(\"details.csv\")"
   ]
  }
 ],
 "metadata": {
  "kernelspec": {
   "display_name": "Python 3",
   "language": "python",
   "name": "python3"
  },
  "language_info": {
   "codemirror_mode": {
    "name": "ipython",
    "version": 3
   },
   "file_extension": ".py",
   "mimetype": "text/x-python",
   "name": "python",
   "nbconvert_exporter": "python",
   "pygments_lexer": "ipython3",
   "version": "3.7.2"
  }
 },
 "nbformat": 4,
 "nbformat_minor": 2
}
